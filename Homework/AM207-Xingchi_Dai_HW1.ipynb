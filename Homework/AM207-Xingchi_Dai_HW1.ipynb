{
 "cells": [
  {
   "cell_type": "markdown",
   "metadata": {},
   "source": [
    "# **AM 207**: Homework 1"
   ]
  },
  {
   "cell_type": "markdown",
   "metadata": {},
   "source": [
    "Verena Kaynig-Fittkau and Pavlos Protopapas  <br>\n",
    "**Due: 11.59 P.M. Thursday February 18th, 2015**"
   ]
  },
  {
   "cell_type": "markdown",
   "metadata": {},
   "source": [
    "### Instructions:\n",
    "\n",
    "+ Upload your answers in an ipython notebook to Canvas.\n",
    "\n",
    "+ We will provide you imports for your ipython notebook. Please do not import additional libraries.\n",
    "\n",
    "+ Your individual submissions should use the following filenames: AM207_YOURNAME_HW1.ipynb\n",
    "\n",
    "+ Your code should be in code cells as part of your ipython notebook. Do not use a different language (or format). \n",
    "\n",
    "+ **Do not just send your code. The homework solutions should be in a report style. Be sure to add comments to your code as well as markdown cells where you describe your approach and discuss your results. **\n",
    "\n",
    "+ Please submit your notebook in an **executed** status, so that we can see all the results you computed. However, we will still run your code and all cells should reproduce the output when executed. \n",
    "\n",
    "+ If you have multiple files (e.g. you've added code files or images) create a tarball for all files in a single file and name it: AM207_YOURNAME_HW1.tar.gz or AM207_YOURNAME_HW1.zip\n",
    "\n",
    "\n",
    "### Have Fun!\n",
    "_ _ _ _ _"
   ]
  },
  {
   "cell_type": "code",
   "execution_count": 1,
   "metadata": {
    "collapsed": false
   },
   "outputs": [
    {
     "name": "stderr",
     "output_type": "stream",
     "text": [
      "/Users/xdai/anaconda/lib/python2.7/site-packages/matplotlib/__init__.py:872: UserWarning: axes.color_cycle is deprecated and replaced with axes.prop_cycle; please use the latter.\n",
      "  warnings.warn(self.msg_depr % (key, alt_key))\n"
     ]
    }
   ],
   "source": [
    "import numpy as np\n",
    "import matplotlib\n",
    "import matplotlib.pyplot as plt\n",
    "from mpl_toolkits.mplot3d import Axes3D\n",
    "%matplotlib inline\n",
    "\n",
    "import seaborn as sns\n",
    "sns.set_style(\"white\")\n",
    "\n",
    "import time\n",
    "\n",
    "import scipy.stats "
   ]
  },
  {
   "cell_type": "markdown",
   "metadata": {},
   "source": [
    "# Problem 1: By a Needles Length\n",
    "\n",
    "![Alt Buffon Needle](figures/Buffon_needle.gif)\n",
    "We discussed how to use Buffon's needle to estimate $\\pi$ during lecture, using the probability of the needle crossing a line of a floor tile. Using Monte Carlo simulation, estimate the probability of the needle crossing a floor line as a function of the needle's length. Assume that the distance between floor lines is 1 unit, and your needle manufacturer provides you with needles of different length in 0.1 increments with a maximum length of 1 unit. Plot a histogram of your results and compare your results to the analytical solution from the lecture:\n",
    "$$P = \\frac{2 \\cdot l}{t \\cdot \\pi}$$\n",
    "\n",
    "where $l$ is the length of the needle and $t$ is the distance beweent the floor tiles\n",
    "\n",
    "In a next step extend your simulation to a maximum needle length of 2 units, still using 0.1 increments. Compare your results to the same formula for the intersection. Why do your results now diverge from the analytical solution given above? What would you need to do to correct the analytical formula? It is ok to just describe the integral you need to solve analytically, and why it looks this way. No need to actually do the integration by hand. "
   ]
  },
  {
   "cell_type": "markdown",
   "metadata": {},
   "source": [
    "**Please answer this problem by adding cells here.**"
   ]
  },
  {
   "cell_type": "code",
   "execution_count": 2,
   "metadata": {
    "collapsed": true
   },
   "outputs": [],
   "source": [
    "def analytical(l):\n",
    "    return (2*l)/np.pi"
   ]
  },
  {
   "cell_type": "code",
   "execution_count": 3,
   "metadata": {
    "collapsed": true
   },
   "outputs": [],
   "source": [
    "def do_estimations(l):\n",
    "    pi = 3.141592\n",
    "    #Here I need to do simulations for all possible length of needles\n",
    "    #upper and lower limits for angle\n",
    "    a = 0.0\n",
    "    b = pi/2\n",
    "    #central point of the needle to the wall\n",
    "    c = 0.5\n",
    "    #size \n",
    "    N = 1000.0\n",
    "    #create a list to store probs\n",
    "    ana = []\n",
    "    err_mean=[]\n",
    "    err_std=[]\n",
    "    plt.figure()\n",
    "    for needle in l:\n",
    "        probs = []\n",
    "        for x in range(500):\n",
    "            #draw many sample from uniform distribution \n",
    "            dist = np.random.uniform(low=a,high=c,size=N);\n",
    "            angles = np.random.uniform(low=a, high=b,size = N)\n",
    "            probs.append(np.sum(dist/np.sin(angles) <= (needle/2))/N)\n",
    "        #figure out the error/mean\n",
    "        err_std.append(np.std(probs))\n",
    "        err_mean.append(np.mean(probs))\n",
    "        ana.append(analytical(needle))\n",
    "    ax = sns.barplot(l,err_mean,yerr=err_std,alpha=.5,palette=\"Blues_d\")\n",
    "    ax.set(xlabel='length', ylabel='Probability',title='Error Bars for the Probabilities')\n",
    "    plt.scatter(l*10,ana,color='r',s=40)"
   ]
  },
  {
   "cell_type": "code",
   "execution_count": 4,
   "metadata": {
    "collapsed": false
   },
   "outputs": [
    {
     "name": "stderr",
     "output_type": "stream",
     "text": [
      "/Users/xdai/anaconda/lib/python2.7/site-packages/ipykernel/__main__.py:20: DeprecationWarning: using a non-integer number instead of an integer will result in an error in the future\n",
      "/Users/xdai/anaconda/lib/python2.7/site-packages/ipykernel/__main__.py:21: DeprecationWarning: using a non-integer number instead of an integer will result in an error in the future\n"
     ]
    },
    {
     "data": {
      "image/png": "[encoded data removed]",
      "text/plain": [
       "<matplotlib.figure.Figure at 0x10ff66650>"
      ]
     },
     "metadata": {},
     "output_type": "display_data"
    }
   ],
   "source": [
    "l = np.arange(0,1.1,0.1)\n",
    "do_estimations(l)\n"
   ]
  },
  {
   "cell_type": "code",
   "execution_count": 5,
   "metadata": {
    "collapsed": false
   },
   "outputs": [
    {
     "name": "stderr",
     "output_type": "stream",
     "text": [
      "/Users/xdai/anaconda/lib/python2.7/site-packages/ipykernel/__main__.py:20: DeprecationWarning: using a non-integer number instead of an integer will result in an error in the future\n",
      "/Users/xdai/anaconda/lib/python2.7/site-packages/ipykernel/__main__.py:21: DeprecationWarning: using a non-integer number instead of an integer will result in an error in the future\n"
     ]
    },
    {
     "data": {
      "image/png": "[encoded data removed]",
      "text/plain": [
       "<matplotlib.figure.Figure at 0x1100a9a10>"
      ]
     },
     "metadata": {},
     "output_type": "display_data"
    }
   ],
   "source": [
    "l = np.arange(0,2.1,0.1)\n",
    "do_estimations(l)"
   ]
  },
  {
   "cell_type": "markdown",
   "metadata": {},
   "source": [
    "### Conclusion\n",
    "\n",
    "As what have shown in plots above, the result diverges after the length of needle becomes larger than unit, which means the analytical formula obtained before doesn't apply to this case anymore\n",
    "\n",
    "\n",
    "Suppose a long needle <math>l > t</math>. In this case, integrating the joint probability density function, we obtain:\n",
    "\n",
    "$\\int_{\\theta=0}^{\\frac{\\pi}{2}} \\int_{x=0}^{m(\\theta)}  \\frac{4}{t\\pi}\\,dx\\,d\\theta $\n",
    "\n",
    "where $m(\\theta) $is the minimum between\n",
    "$(l/2)\\sin\\theta$ and $t/2 $.\n",
    "\n",
    "\n"
   ]
  },
  {
   "cell_type": "markdown",
   "metadata": {},
   "source": [
    "# Problem 2: Simple Integration\n",
    "\n",
    "Write a function that estimates the value of a given one dimensional integral Monte Carlo style. \n",
    "The function should have the following signature:\n",
    "\n",
    "`estimate_integral_MC(function_to_integrate, lower_bound, upper_bound, number_of_samples, number_of_tries)`\n",
    "\n",
    "Where `number_of_tries` is used to calculate the standard deviation of the estimated value of the integral. \n",
    "\n",
    "Test your function by solving the following integrals:\n",
    "\n",
    "* $ \\int_0^3 x^{\\frac{x}{4}} \\,dx$\n",
    "* $ \\int_0^1 \\log x \\cdot \\log(1-x) \\,dx $.\n"
   ]
  },
  {
   "cell_type": "markdown",
   "metadata": {},
   "source": [
    "**Please answer this problem by adding cells here.**"
   ]
  },
  {
   "cell_type": "code",
   "execution_count": 6,
   "metadata": {
    "collapsed": false
   },
   "outputs": [],
   "source": [
    "def estimate_integral_MC(inte_fun, lower_bound, upper_bound, n_samples, n_tries):\n",
    "    estimates = np.zeros(n_tries)\n",
    "    for i in range(n_tries):\n",
    "        #1. N values uniformly drawn from lower to upper \n",
    "        X = np.random.uniform(low=lower_bound, high=upper_bound, size=n_samples) \n",
    "        #2. Compute f(X) and its average\n",
    "        Y = inte_fun(X)\n",
    "        f_average = np.sum(Y)/ n_samples\n",
    "        #3. estimate value of integral\n",
    "        estimates[i]=(upper_bound-lower_bound) * f_average;\n",
    "    ax = sns.distplot(estimates,color=\"y\",kde=False)\n",
    "    ax.set(xlabel='Integral', ylabel='Frequency',title='Integration Calculation')\n",
    "    print \"Monte Carlo estimate = \",np.mean(estimates)\n",
    "    print \"Monte Carlo Standard Deviation\",np.std(estimates)"
   ]
  },
  {
   "cell_type": "code",
   "execution_count": 7,
   "metadata": {
    "collapsed": false
   },
   "outputs": [
    {
     "name": "stdout",
     "output_type": "stream",
     "text": [
      "Monte Carlo estimate =  3.91539277645\n",
      "Monte Carlo Standard Deviation 0.00370167700901\n"
     ]
    },
    {
     "name": "stderr",
     "output_type": "stream",
     "text": [
      "/Users/xdai/anaconda/lib/python2.7/site-packages/ipykernel/__main__.py:5: DeprecationWarning: using a non-integer number instead of an integer will result in an error in the future\n"
     ]
    },
    {
     "data": {
      "image/png": "[encoded data removed]",
      "text/plain": [
       "<matplotlib.figure.Figure at 0x1086fce10>"
      ]
     },
     "metadata": {},
     "output_type": "display_data"
    }
   ],
   "source": [
    "def first_inte(x):\n",
    "    return x**(x/4);\n",
    "def second_inte(x):\n",
    "    return np.log(x) * np.log(1-x)\n",
    "\n",
    "#By using what we have learned in the class-mean value theorem, we could solve this problem easily\n",
    "estimate_integral_MC(first_inte,0,3,100000.0,500)"
   ]
  },
  {
   "cell_type": "code",
   "execution_count": 8,
   "metadata": {
    "collapsed": false
   },
   "outputs": [
    {
     "name": "stdout",
     "output_type": "stream",
     "text": [
      "Monte Carlo estimate =  0.355031951421\n",
      "Monte Carlo Standard Deviation 0.000415366316077\n"
     ]
    },
    {
     "name": "stderr",
     "output_type": "stream",
     "text": [
      "/Users/xdai/anaconda/lib/python2.7/site-packages/ipykernel/__main__.py:5: DeprecationWarning: using a non-integer number instead of an integer will result in an error in the future\n"
     ]
    },
    {
     "data": {
      "image/png": "[encoded data removed]",
      "text/plain": [
       "<matplotlib.figure.Figure at 0x109975650>"
      ]
     },
     "metadata": {},
     "output_type": "display_data"
    }
   ],
   "source": [
    "estimate_integral_MC(second_inte,0,1,100000.0,500)"
   ]
  },
  {
   "cell_type": "markdown",
   "metadata": {},
   "source": [
    "# Problem 3: The Donut Estimation\n",
    "\n",
    "You bought a nice donut for yourself and decided to eat it in the evening while working on your AM207 assignments. \n",
    "Unfortunately you live in a shared apartment and your roommate got hold of the donut in the kitchen. It seems that he first\n",
    "cut off a small piece from the bottom, but then discovered how delicious the donut was and proceeded to cut off an additional large part. Discovering the donut theft in the evening you decide to confront your roommate, but you want to present hard facts and estimate how much of your original donut was left. \n",
    "\n",
    "Think of the donut as a 3D object(refer to the following picture). You model the donut as a torus centered at the origin`(0,0,0)` with outer radius `R=4` and inner radius `r=2`. Points $(x,y,z)$ inside the torus then are described by the following condition: \n",
    "$$z^2 + (\\sqrt{x^2 + y^2} - c)^2 \\leq a^2,$$\n",
    "where $c$ is the radius from origin to the center of the torus tube, and $a$ is the radius of the donut tube, the cross section of the donut tube is a circle.\n",
    "\n",
    "Your roomates cuts were first parallel to the x axis at y = -3, and then parallel to the y axis at x = 1.\n",
    "\n",
    "To estimate the weight of the donut you need to solve the integral\n",
    "\n",
    "$$ \\int_V \\rho \\,dx \\,dy \\,dz $$.\n",
    "\n",
    "Where $\\rho$ is the density of the donut and $V$ is the volume. As you are just interested in the percentage of the whole donut you got to eat, you can just assume $\\rho=1$.\n",
    "\n",
    "The weight of the whole original donut then was:\n",
    "\n",
    "$$ (\\pi a^2)\\cdot(2 \\cdot \\pi \\cdot c) $$\n",
    "\n",
    "What is the percentage of the donut your room mate left for you to eat? Don't forget to estimate the error as well!\n",
    "\n",
    "\n"
   ]
  },
  {
   "cell_type": "markdown",
   "metadata": {},
   "source": [
    "**Please answer this problem by adding cells here.**"
   ]
  },
  {
   "cell_type": "code",
   "execution_count": 9,
   "metadata": {
    "collapsed": false
   },
   "outputs": [
    {
     "name": "stdout",
     "output_type": "stream",
     "text": [
      "The mean of the percentage of donut left: 0.540212657142\n",
      "The standard deviation of  simulations 0.00613349659042\n"
     ]
    },
    {
     "name": "stderr",
     "output_type": "stream",
     "text": [
      "/Users/xdai/anaconda/lib/python2.7/site-packages/ipykernel/__main__.py:8: DeprecationWarning: using a non-integer number instead of an integer will result in an error in the future\n",
      "/Users/xdai/anaconda/lib/python2.7/site-packages/ipykernel/__main__.py:9: DeprecationWarning: using a non-integer number instead of an integer will result in an error in the future\n",
      "/Users/xdai/anaconda/lib/python2.7/site-packages/ipykernel/__main__.py:10: DeprecationWarning: using a non-integer number instead of an integer will result in an error in the future\n"
     ]
    },
    {
     "data": {
      "text/plain": [
       "[<matplotlib.text.Text at 0x110dc9410>,\n",
       " <matplotlib.text.Text at 0x110dbbe50>,\n",
       " <matplotlib.text.Text at 0x110df1ad0>]"
      ]
     },
     "execution_count": 9,
     "metadata": {},
     "output_type": "execute_result"
    },
    {
     "data": {
      "image/png": "[encoded data removed]",
      "text/plain": [
       "<matplotlib.figure.Figure at 0x1107b5f90>"
      ]
     },
     "metadata": {},
     "output_type": "display_data"
    }
   ],
   "source": [
    "pi = 3.141592\n",
    "a = 1\n",
    "c = 3\n",
    "# take the integral, x = -4, 1 y = -3 , 4 z= -1,1\n",
    "N = 10000.0\n",
    "perc = np.zeros(500)\n",
    "for i in range(500):\n",
    "    x = np.random.uniform(low=-4, high=1, size=N) \n",
    "    y = np.random.uniform(low=-3, high=4, size=N) \n",
    "    z = np.random.uniform(low=-1, high=1, size=N) \n",
    "    #to claculate the volumn, first I check the propability of getting into the donut\n",
    "    prob = np.sum((np.sqrt((x**2)+(y**2)) - c)**2.0 + z**2 <= 1)/N\n",
    "    #the volumn of the box we do sampling\n",
    "    v_sample = 5*7*2\n",
    "    #the volumn of the donut is \n",
    "    v_donut = prob * v_sample\n",
    "    #calculate the percentage of the current donut/ \n",
    "    v_orig = pi * ((a)**2) * 2 * pi * c\n",
    "    perc[i] = (v_donut/v_orig)\n",
    "print \"The mean of the percentage of donut left:\", np.mean(perc)\n",
    "print \"The standard deviation of  simulations\", np.std(perc)\n",
    "ax = sns.distplot(perc,color=\"y\",kde=False)\n",
    "ax.set(xlabel='Percentage', ylabel='Frequency',title='My donut left')"
   ]
  },
  {
   "cell_type": "markdown",
   "metadata": {},
   "source": [
    "# Problem 4: New Years Resolutions\n",
    "\n",
    "A lot of people pledge to get more active in the new year. Unfortunately these resolutions often are short lived. We model the probability distribution of personal fitness over the months of a year with a skewed distribution:\n",
    "\n",
    "$ P(t) = \\lambda \\frac{(t-0.9)}{(t-1)^2 + 1}, \\; 1 \\leq t \\leq 12 $\n",
    "\n",
    "$ P(t) = 0 \\; otherwise$\n",
    "\n",
    "Where $t=1$ corresponds to January, $t=2$ corresponds to February, etc.. $\\lambda$ is a normalization constant, and t is measured in months ($t$ only takes integer values). \n",
    "\n",
    "* Plot the given distribution and compute the normalization factor\n",
    "* Sample $10^5$ samples from the distribution given above using rejection sampling. \n",
    "* Plot the histogram of the simulated samples and compare it to the true distribution (hint: It's easiest to use the normalization factor computed above and then plot the normed version of the histogram against it.\n",
    "* Repeat the first two steps using the inverse transform instead of rejection sampling. Do not bother with getting the anti-derivative analytically. Just build a lookup table for it. \n",
    "* Compare the execution time of both methods. Which one is faster and why? When would you prefer a lookup table and when an analytical solution to the anti-derivative?"
   ]
  },
  {
   "cell_type": "markdown",
   "metadata": {},
   "source": [
    "**Please answer this problem by adding cells here.**"
   ]
  },
  {
   "cell_type": "code",
   "execution_count": 10,
   "metadata": {
    "collapsed": false
   },
   "outputs": [],
   "source": [
    "def pdf_p_norm(t,norm=1):\n",
    "    return norm * ((t-0.9)/((t-1)**2 + 1))"
   ]
  },
  {
   "cell_type": "code",
   "execution_count": 13,
   "metadata": {
    "collapsed": false
   },
   "outputs": [
    {
     "name": "stdout",
     "output_type": "stream",
     "text": [
      "The normalization factor is 0.39203851592\n"
     ]
    },
    {
     "data": {
      "text/plain": [
       "[<matplotlib.text.Text at 0x10fff4850>,\n",
       " <matplotlib.text.Text at 0x10ffd6050>,\n",
       " <matplotlib.text.Text at 0x110065850>]"
      ]
     },
     "execution_count": 13,
     "metadata": {},
     "output_type": "execute_result"
    },
    {
     "data": {
      "image/png": "[encoded data removed]",
      "text/plain": [
       "<matplotlib.figure.Figure at 0x10ffe2290>"
      ]
     },
     "metadata": {},
     "output_type": "display_data"
    }
   ],
   "source": [
    "#plot the given distribution\n",
    "t = np.arange(1,13)#arange doesn't include the last number\n",
    "res = np.zeros(12)\n",
    "norm = 1/np.sum(pdf_p_norm(t))\n",
    "print \"The normalization factor is\", norm\n",
    "res = pdf_p_norm(t,norm)\n",
    "ax = sns.barplot(t,res,palette=\"Blues_d\")\n",
    "ax.set(xlabel='Probability', ylabel='Month',title='Distribution of New Year')\n"
   ]
  },
  {
   "cell_type": "code",
   "execution_count": 38,
   "metadata": {
    "collapsed": false
   },
   "outputs": [
    {
     "name": "stdout",
     "output_type": "stream",
     "text": [
      "CPU times: user 2 µs, sys: 0 ns, total: 2 µs\n",
      "Wall time: 5.96 µs\n",
      "Total samples drawn:  300504\n",
      "Number of accepted samples:  100000\n"
     ]
    },
    {
     "data": {
      "text/plain": [
       "[(0, 0.25),\n",
       " <matplotlib.text.Text at 0x113d28050>,\n",
       " <matplotlib.text.Text at 0x113d1ba90>,\n",
       " <matplotlib.text.Text at 0x113d5b750>]"
      ]
     },
     "execution_count": 38,
     "metadata": {},
     "output_type": "execute_result"
    },
    {
     "data": {
      "image/png": "[encoded data removed]",
      "text/plain": [
       "<matplotlib.figure.Figure at 0x113e5e050>"
      ]
     },
     "metadata": {},
     "output_type": "display_data"
    }
   ],
   "source": [
    "#part2: sample 10^5 from distribution given\n",
    "%time\n",
    "N = 10 ** 5#sample size\n",
    "samples = np.zeros(N)\n",
    "count = 0\n",
    "accepted = 0\n",
    "while(accepted < N):\n",
    "    t = np.random.random_integers(1,12)\n",
    "    y = np.random.uniform(0,0.25)\n",
    "    if (y < pdf_p_norm(t,norm)):\n",
    "        samples[accepted] = t\n",
    "        accepted += 1\n",
    "    count += 1\n",
    "print \"Total samples drawn: \",count\n",
    "print \"Number of accepted samples: \", accepted\n",
    "# get the histogram info\n",
    "hinfo = np.histogram(samples,30)\n",
    "#make plots\n",
    "ax = sns.distplot(samples,color='y',bins=12,kde=False,norm_hist=True)\n",
    "plt.scatter(np.arange(1,13),res,color='r',s=40)\n",
    "ax.set(xlabel='Probability', ylabel='Month',title='Distribution graph genreated by rejection samples',ylim=(0,0.25))"
   ]
  },
  {
   "cell_type": "code",
   "execution_count": 39,
   "metadata": {
    "collapsed": false
   },
   "outputs": [
    {
     "name": "stdout",
     "output_type": "stream",
     "text": [
      "[ 0.03920385  0.25482504  0.41948121  0.54101315  0.63556362  0.71246348\n",
      "  0.77709686  0.83276633  0.88162036  0.92512707  0.96433092  1.        ]\n"
     ]
    }
   ],
   "source": [
    "#Here I use the inverse transform\n",
    "#first we nned to find cdf F(x)\n",
    "#build a look up table for cdf\n",
    "month = np.arange(1,13)\n",
    "probs = pdf_p_norm(month,norm)\n",
    "cdf = np.zeros(12)\n",
    "cdf[0] = probs[0]\n",
    "for i in range(1,12):\n",
    "    cdf[i] = probs[i] + cdf[i-1];\n",
    "print cdf"
   ]
  },
  {
   "cell_type": "code",
   "execution_count": 44,
   "metadata": {
    "collapsed": false
   },
   "outputs": [
    {
     "name": "stdout",
     "output_type": "stream",
     "text": [
      "CPU times: user 3 µs, sys: 3 µs, total: 6 µs\n",
      "Wall time: 8.11 µs\n"
     ]
    },
    {
     "data": {
      "text/plain": [
       "<matplotlib.collections.PathCollection at 0x113847510>"
      ]
     },
     "execution_count": 44,
     "metadata": {},
     "output_type": "execute_result"
    },
    {
     "data": {
      "image/png": "[encoded data removed]",
      "text/plain": [
       "<matplotlib.figure.Figure at 0x113b2d5d0>"
      ]
     },
     "metadata": {},
     "output_type": "display_data"
    }
   ],
   "source": [
    "#here I finish the rest of inverse function sampling \n",
    "%time\n",
    "R = np.random.uniform(0,1,N)\n",
    "X = np.zeros(N)\n",
    "#find their inverse cdf \n",
    "for index in range(N):\n",
    "    diff = 9999#here is a large number\n",
    "    month = 0\n",
    "    for month_ind in range(12):\n",
    "        if(cdf[month_ind] > R[index]):#if any cdf[x] is larger\n",
    "            if(diff > cdf[month_ind] - R[index]):#find a closer element\n",
    "                diff = cdf[month_ind] - R[index]\n",
    "                month = month_ind + 1 #offset of index and month\n",
    "    #here store the result \n",
    "    X[index] = month\n",
    "# get the histogram info\n",
    "# plot the histogram\n",
    "plt.hist(X,alpha=0.2,bins = 12,color='g',normed=True);\n",
    "plt.xlabel(\"month\")\n",
    "plt.ylabel(\"Samples\")\n",
    "plt.ylim(0,0.25)\n",
    "plt.title(\"Draw from Inverse Distribution\")\n",
    "plt.scatter(np.arange(1,13),res,color='r',s=40)"
   ]
  },
  {
   "cell_type": "markdown",
   "metadata": {},
   "source": [
    "### Conclusion\n",
    "Judging by the time spent on both simulations, drawing from inverse function is faster than rejecting sampling, due to the fact the rejecting sampling's has a large envelope(there might be a large portion of samples get rejected), while inverse function is straightforward to calculate. \n",
    "\n",
    "A look-up table is more appropriate for discrete data while an analytical solution to the anti-derivative is stuitable for continuous data more. "
   ]
  },
  {
   "cell_type": "markdown",
   "metadata": {},
   "source": [
    "# Problem 5: Give it all!\n",
    "\n",
    "Estimate the following integral:\n",
    "\n",
    "$ \\int_{-1}^{1} \\int_{-1}^{1}  f(x,y) \\,dx \\,dy$, with \n",
    "\n",
    "$ g(x,y) = -(x+0.4)^2 - (y+0.4)^2 + 0.1 - (x-0.4)^2 - (y-0.4)^2 + 0.05$, and\n",
    "\n",
    "$ f(x,y) = \\max(g(x,y), 0)$\n",
    "\n",
    "\n",
    "First use basic Monte Carlo estimation. Then apply different variance reduction techniques we discussed in the lecture: \n",
    "* stratified sampling, \n",
    "* control variates, \n",
    "* importance sampling\n",
    "\n",
    "For each technique give a short explanation of how you are applying it to the problem. Implement the different techniques and then make a table and compare the results with respect to run-time and error in the estimate. \n",
    "\n",
    "You can choose to also either apply and explain antithetic variates, or explain why you don't think they are useful in this case, and how they could benefit of being combined with one of the techniques listed above. "
   ]
  },
  {
   "cell_type": "markdown",
   "metadata": {},
   "source": [
    "**Please answer this problem by adding cells here.**"
   ]
  },
  {
   "cell_type": "code",
   "execution_count": 45,
   "metadata": {
    "collapsed": false
   },
   "outputs": [],
   "source": [
    "#define two functions\n",
    "def g1(x,y):\n",
    "    return -(x+0.4)**2-(y+0.4)**2+0.1;\n",
    "def g2(x,y):\n",
    "    return -(x-0.4)**2-(y-0.4)**2+0.05;\n",
    "def f(g1,g2,x,y):\n",
    "    inter = g1(x,y)\n",
    "    inter2= g2(x,y)\n",
    "    return np.maximum(inter,0) + np.maximum(inter2,0)"
   ]
  },
  {
   "cell_type": "code",
   "execution_count": 69,
   "metadata": {
    "collapsed": false
   },
   "outputs": [
    {
     "name": "stdout",
     "output_type": "stream",
     "text": [
      "CPU times: user 2 µs, sys: 1e+03 ns, total: 3 µs\n",
      "Wall time: 5.01 µs\n",
      "Monte Carlo Estimate =  0.0196573165536\n",
      "Monte Carlo Standard Deviation 0.000627742084335\n"
     ]
    }
   ],
   "source": [
    "#The first one, apply MC\n",
    "%time\n",
    "estimates = np.zeros(500)\n",
    "for index in range(500):\n",
    "    N = 10000\n",
    "    z = np.zeros(N)\n",
    "    for i in range(N):\n",
    "        x = np.random.uniform(low=-1,high=1)\n",
    "        y = np.random.uniform(low=-1,high=1)\n",
    "        z[i]= f(g1,g2,x,y)\n",
    "    estimates[index] = np.mean(z) * 4\n",
    "print \"Monte Carlo Estimate = \", np.mean(estimates)\n",
    "print \"Monte Carlo Standard Deviation\", np.std(estimates)"
   ]
  },
  {
   "cell_type": "markdown",
   "metadata": {},
   "source": [
    "### Stratification\n",
    "Instead of taking N samples, drawn from uniform distribution, we break the interval into M strata of equal width and take L samples for each strate. In this case, we will make sure we sample from every part of graph. Intuitively, the expectation value won't change, and based on the theory of Cauchy-Schwarz Inequality, the variance will be reduced. \n",
    "\n",
    "As such, for this problem, I divided each axis(since we have two diminsions) by 10 parts. In total, I will get 100 small stratas in my function. For each strata, I took 100 samples, which makes the total number of samples go up to 10000. "
   ]
  },
  {
   "cell_type": "code",
   "execution_count": 68,
   "metadata": {
    "collapsed": false
   },
   "outputs": [
    {
     "name": "stdout",
     "output_type": "stream",
     "text": [
      "CPU times: user 2 µs, sys: 1 µs, total: 3 µs\n",
      "Wall time: 5.01 µs\n",
      "Stratified Monte Carlo Estimate =  0.0196245094001\n",
      "Stratified Monte Carlo Std =  0.000262766953303\n"
     ]
    }
   ],
   "source": [
    "N = 10000\n",
    "M = 10 # I have 100 stratas/each axis is 10\n",
    "xmin = -1.0\n",
    "xmax = 1.0\n",
    "step = (xmax - xmin)/M\n",
    "\n",
    "#in each strata(x,y), we need to draw uniform distribution\n",
    "#loop every strata\n",
    "#there are M stratas\n",
    "%time\n",
    "estimates_stra = np.zeros(500)\n",
    "for reg in range(500):\n",
    "    x_umin= -1.0\n",
    "    y_umin=-1.0\n",
    "    y_umax = -0.8\n",
    "    x_umax = -0.8\n",
    "    z_strata = np.zeros(M * M)#here I store each expectation value, shall have 100 stratas\n",
    "    index = 0\n",
    "    for i in range(M):\n",
    "        y_umin = -1.0\n",
    "        y_umax = -0.8\n",
    "        for j in range(M):\n",
    "            #each strata samples 100\n",
    "            z = np.zeros(N/(M*M))\n",
    "            count = 0\n",
    "            for ind in range(100):\n",
    "                count += 1\n",
    "                #within each strata, sample n/m times, and get a mean value \n",
    "                x = np.random.uniform(low=x_umin,high=x_umax)\n",
    "                y = np.random.uniform(low=y_umin,high=y_umax)\n",
    "                z[ind] = f(g1,g2,x,y)  \n",
    "            z_strata[index] = np.mean(z) * 0.04;\n",
    "            index += 1  \n",
    "            y_umin += step\n",
    "            y_umax += step\n",
    "        x_umin += step\n",
    "        x_umax += step\n",
    "    #then we get a z_strata\n",
    "    estimates_stra[reg] = np.sum(z_strata)\n",
    "print \"Stratified Monte Carlo Estimate = \", np.mean(estimates_stra)\n",
    "print \"Stratified Monte Carlo Std = \", np.std(estimates_stra)"
   ]
  },
  {
   "cell_type": "code",
   "execution_count": 50,
   "metadata": {
    "collapsed": false
   },
   "outputs": [
    {
     "data": {
      "text/plain": [
       "[<matplotlib.text.Text at 0x114cd47d0>,\n",
       " <matplotlib.text.Text at 0x114bd3bd0>,\n",
       " <matplotlib.text.Text at 0x114cda410>]"
      ]
     },
     "execution_count": 50,
     "metadata": {},
     "output_type": "execute_result"
    },
    {
     "data": {
      "image/png": "[encoded data removed]",
      "text/plain": [
       "<matplotlib.figure.Figure at 0x113d53110>"
      ]
     },
     "metadata": {},
     "output_type": "display_data"
    }
   ],
   "source": [
    "#let me plot two plots above to observe the variance change\n",
    "ax = sns.distplot(estimates,color='y',kde= False,bins=30)\n",
    "sns.distplot(estimates_stra,color='g',kde=False,bins=30)\n",
    "ax.set(xlabel='Integral', ylabel='Frequency',title='Variance Reduction(stratified)')"
   ]
  },
  {
   "cell_type": "markdown",
   "metadata": {},
   "source": [
    "### Control Variates\n",
    "\n",
    "The whole idea of having control variates is to transform the function needed to integrate to another function having the same expected values but smaller variances. \n",
    "\n",
    "In this problem, I plot the contour plots of original functions. After that I found two Gaussian functions.\n",
    "\n",
    "Foray into multiple control variates\n",
    "\n",
    "The first thought I had was to use multiple Gaussian distributions. By doing in this way, I believe the variance of the final results shall decrease insignificantly. However, later on, the complexity of this approach increases a lot. In the interest of time, I decided to give up this approach, unfortunately.\n",
    "\n",
    "Final Approach: I decided to add two Gaussian, g1,g2 into one function, g. In this case, later on, when I calculate b, my life would be easier, as a single b value could be calculated by having covrariance value divided by a variance of g(x). This approach didn't reduce my variance much though. \n"
   ]
  },
  {
   "cell_type": "markdown",
   "metadata": {},
   "source": [
    "Before I move on, one countour plot of the original function is very useful for me to pick a g(x) and also for the future important sampling"
   ]
  },
  {
   "cell_type": "code",
   "execution_count": 51,
   "metadata": {
    "collapsed": false
   },
   "outputs": [
    {
     "data": {
      "text/plain": [
       "<matplotlib.text.Text at 0x114ede710>"
      ]
     },
     "execution_count": 51,
     "metadata": {},
     "output_type": "execute_result"
    },
    {
     "data": {
      "image/png": "[encoded data removed]",
      "text/plain": [
       "<matplotlib.figure.Figure at 0x113c66e90>"
      ]
     },
     "metadata": {},
     "output_type": "display_data"
    }
   ],
   "source": [
    "x_points = np.linspace(-1,1,1000)\n",
    "y_points = np.linspace(-1,1,1000)\n",
    "xx, yy = np.meshgrid(x_points,y_points)\n",
    "z_res = f(g1,g2,xx,yy)\n",
    "plt.contourf(xx,yy,z_res)\n",
    "plt.xlabel(\"x\")\n",
    "plt.ylabel(\"y\")\n",
    "plt.title(\"Countour Plot of the Original Function\")"
   ]
  },
  {
   "cell_type": "code",
   "execution_count": 52,
   "metadata": {
    "collapsed": false
   },
   "outputs": [
    {
     "name": "stdout",
     "output_type": "stream",
     "text": [
      "(200, 200, 2)\n"
     ]
    },
    {
     "data": {
      "text/plain": [
       "<matplotlib.text.Text at 0x118cee050>"
      ]
     },
     "execution_count": 52,
     "metadata": {},
     "output_type": "execute_result"
    },
    {
     "data": {
      "image/png": "[encoded data removed]",
      "text/plain": [
       "<matplotlib.figure.Figure at 0x114cf9cd0>"
      ]
     },
     "metadata": {},
     "output_type": "display_data"
    }
   ],
   "source": [
    "#here I have a new normal distribution\n",
    "from scipy.stats import multivariate_normal\n",
    "x, y = np.mgrid[-1:1:.01, -1:1:.01]\n",
    "pos = np.empty(x.shape + (2,))\n",
    "print pos.shape\n",
    "pos[:, :, 0] = x; pos[:, :, 1] = y\n",
    "rv = multivariate_normal([-0.4, -0.5], [[0.028, 0], [0, 0.028]])\n",
    "rv2 = multivariate_normal([0.4, 0.4], [[0.015, 0], [0, 0.015]])\n",
    "plt.contourf(x, y, rv.pdf(pos))\n",
    "plt.contourf(x, y, rv2.pdf(pos))\n",
    "plt.title(\"Normal distributions for Control Variates\")"
   ]
  },
  {
   "cell_type": "code",
   "execution_count": 53,
   "metadata": {
    "collapsed": false
   },
   "outputs": [
    {
     "name": "stdout",
     "output_type": "stream",
     "text": [
      "The expectation value of Normals: 0.493506814201\n"
     ]
    }
   ],
   "source": [
    "#calculate tau\n",
    "N = 10000\n",
    "x = np.random.uniform(-1,1,N)\n",
    "y = np.random.uniform(-1,1,N)\n",
    "z = rv.pdf(zip(x,y)) + rv2.pdf(zip(x,y))\n",
    "tau = np.mean(z)\n",
    "print \"The expectation value of Normals:\", tau"
   ]
  },
  {
   "cell_type": "code",
   "execution_count": 64,
   "metadata": {
    "collapsed": false
   },
   "outputs": [
    {
     "name": "stdout",
     "output_type": "stream",
     "text": [
      "CPU times: user 3 µs, sys: 1 µs, total: 4 µs\n",
      "Wall time: 5.01 µs\n",
      "The control variates estimate is: 0.019447615033\n",
      "The control variates standatd deviation is: 0.000439099227968\n"
     ]
    }
   ],
   "source": [
    "#From the previous section, I found the normal distributions\n",
    "#Here is the control variates part\n",
    "#Here I have two Normal Distribution,and cover the two countours above\n",
    "#draw two uniform distributions\n",
    "estimates_control = np.zeros(500)\n",
    "%time\n",
    "for index in range(500):\n",
    "    N = 10000\n",
    "    #########################\n",
    "    x = np.random.uniform(-1,1,N)\n",
    "    y = np.random.uniform(-1,1,N)\n",
    "    z = f(g1,g2,x,y)\n",
    "    RV = rv.pdf(zip(x,y)) + rv2.pdf(zip(x,y))\n",
    "    b = -(np.cov(z,RV)[0,1])/(np.var(RV))\n",
    "    estimates_control[index] = 4*(np.mean(z) + b*np.mean(RV) - b * tau)\n",
    "print \"The control variates estimate is:\", np.mean(estimates_control)\n",
    "print \"The control variates standatd deviation is:\",np.std(estimates_control)"
   ]
  },
  {
   "cell_type": "code",
   "execution_count": 65,
   "metadata": {
    "collapsed": false
   },
   "outputs": [
    {
     "data": {
      "text/plain": [
       "[<matplotlib.text.Text at 0x11af29e90>,\n",
       " <matplotlib.text.Text at 0x11ae86c10>,\n",
       " <matplotlib.text.Text at 0x11940cb90>]"
      ]
     },
     "execution_count": 65,
     "metadata": {},
     "output_type": "execute_result"
    },
    {
     "data": {
      "image/png": "[encoded data removed]",
      "text/plain": [
       "<matplotlib.figure.Figure at 0x118b85650>"
      ]
     },
     "metadata": {},
     "output_type": "display_data"
    }
   ],
   "source": [
    "#let's plot this again! \n",
    "ax = sns.distplot(estimates,color='y',kde=False, bins=30)\n",
    "sns.distplot(estimates_control,color='g',kde=False, bins=30)\n",
    "ax.set(xlabel='Integral', ylabel='Frequency',title='Variance Reduction(Control Variates)')"
   ]
  },
  {
   "cell_type": "markdown",
   "metadata": {},
   "source": [
    "### Important Sampling \n",
    "\n",
    "Often the integrand has a very small value on a dominant fraction of the whole integration volume. If the points are chosen evenly in the integration volume, the small minority of the points close to the `peak' give the dominant contribution to the integral.\n",
    "\n",
    "Importance sampling: choose the random points so that more points are chosen around the peak, less where the integrand is small.\n",
    "\n",
    "In this problem, similar to previous section, I chose two Gaussians, normalize them, and add them up. \n",
    "\n",
    "\n"
   ]
  },
  {
   "cell_type": "code",
   "execution_count": 70,
   "metadata": {
    "collapsed": false
   },
   "outputs": [
    {
     "name": "stdout",
     "output_type": "stream",
     "text": [
      "0.998428419977 0.999999036643\n",
      "CPU times: user 2 µs, sys: 1 µs, total: 3 µs\n",
      "Wall time: 5.96 µs\n",
      "The important sampling estimate is: 0.0196936410384\n",
      "The important sampling Std is: 0.000184564952271\n"
     ]
    }
   ],
   "source": [
    "#I have two Gaussian I can take samples from (rv and rv2),each Gaussian, I draw 10000\n",
    "import scipy as sp\n",
    "low_bd = -1\n",
    "high_bd = 1\n",
    "N = 5000\n",
    "rv = multivariate_normal([-0.4, -0.5], [[0.028, 0], [0, 0.028]])\n",
    "rv2 = multivariate_normal([0.4, 0.4], [[0.015, 0], [0, 0.015]])\n",
    "mvn_cdf = sp.stats.mvn.mvnun([-1,-1], [1,1],np.array([-0.4, -0.5]), ([0.028, 0], [0, 0.028]))[0]\n",
    "mvn_cdf2 = sp.stats.mvn.mvnun([-1,-1],[1,1],np.array([0.4, 0.4]), ([0.015, 0], [0, 0.015]))[0]\n",
    "normal_factor1 = 1/mvn_cdf\n",
    "normal_factor2 = 1/mvn_cdf2\n",
    "print mvn_cdf,mvn_cdf2\n",
    "estimates_imp = np.zeros(500)\n",
    "%time\n",
    "for index in range(500):\n",
    "    sam1 = rv.rvs(N)\n",
    "    sam2 = rv2.rvs(N)\n",
    "    #Make sure all those samples are within our integral range\n",
    "    sam1 = sam1[((sam1[:,0]) < high_bd) & ((sam1[:,0]) > low_bd) & ((sam1[:,1]) > low_bd) & ((sam1[:,1]) < high_bd)]\n",
    "    sam2 = sam2[((sam2[:,0]) < high_bd) & ((sam2[:,0]) > low_bd) & ((sam2[:,1]) > low_bd) & ((sam2[:,1]) < high_bd)]\n",
    "    #Here we need to normalize both gaussian \n",
    "    #start computing \n",
    "    F1 = f(g1,g2,sam1[:,0],sam1[:,1])\n",
    "    F2 = f(g1,g2,sam2[:,0],sam2[:,1])\n",
    "    P1 = rv.pdf(sam1)\n",
    "    P2 = rv2.pdf(sam2)\n",
    "    #Then we calculate each expectation value, and sum them up\n",
    "    E1 = np.mean(F1/P1) * normal_factor1\n",
    "    E2 = np.mean(F2/P2) * normal_factor2\n",
    "    estimates_imp[index] = E1 + E2\n",
    "print \"The important sampling estimate is:\", np.mean(estimates_imp)\n",
    "print \"The important sampling Std is:\", np.std(estimates_imp)"
   ]
  },
  {
   "cell_type": "code",
   "execution_count": 59,
   "metadata": {
    "collapsed": false
   },
   "outputs": [
    {
     "data": {
      "text/plain": [
       "[<matplotlib.text.Text at 0x1191e0590>,\n",
       " <matplotlib.text.Text at 0x119777d10>,\n",
       " <matplotlib.text.Text at 0x114ecc110>]"
      ]
     },
     "execution_count": 59,
     "metadata": {},
     "output_type": "execute_result"
    },
    {
     "data": {
      "image/png": "[encoded data removed]",
      "text/plain": [
       "<matplotlib.figure.Figure at 0x114d46190>"
      ]
     },
     "metadata": {},
     "output_type": "display_data"
    }
   ],
   "source": [
    "#let's plot this again! Almost there to observe the variance\n",
    "ax = sns.distplot(estimates,color='y', bins=20, kde=False,)\n",
    "sns.distplot(estimates_imp,color='g', bins=20, kde=False,)\n",
    "ax.set(xlabel='Integral', ylabel='Frequency',title='Variance Reduction(Important Sampling)')"
   ]
  },
  {
   "cell_type": "markdown",
   "metadata": {},
   "source": [
    "### Antithetic Variates plus Stratification\n",
    "\n",
    "Antithetic Variates is also another very efficient variance reduction method. However, one condition of using this is the function has to be monotonic. This restricts the advantage of Antithetic Variates.\n",
    "\n",
    "However, we could still take advantage of it by having function stratified first. As such, in each small stratified, we would be able to find antithetic variates. I used this method in this problem. \n",
    "\n",
    "It is hard to observe the function's monotonical property here. As such, I stratify them into very small stratas(400 of stratas), and then to find antithetic variates. \n",
    "\n",
    "Although there is small chance that the function within my small strata is still not a monotonic one, but those small part of stratas wouldn't affect my results much. Actually, this method creates a very good result. "
   ]
  },
  {
   "cell_type": "code",
   "execution_count": 62,
   "metadata": {
    "collapsed": false
   },
   "outputs": [
    {
     "name": "stdout",
     "output_type": "stream",
     "text": [
      "CPU times: user 2 µs, sys: 1e+03 ns, total: 3 µs\n",
      "Wall time: 6.91 µs\n",
      "The Antithetic Methods Expected Value is: 0.0196374928967\n",
      "The Antithetic Standard Deviation is: 2.63657549119e-05\n"
     ]
    }
   ],
   "source": [
    "#within each strata, sample n/m times, and get a mean value \n",
    "N = 10000\n",
    "M = 20 #so, make it to 20 each axises, then the total would be 400 \n",
    "xmin = -1.0\n",
    "xmax = 1.0\n",
    "step = (xmax - xmin)/M\n",
    "#############################\n",
    "%time\n",
    "estimates_anti = np.zeros(500)\n",
    "for index in range(500):\n",
    "    x_umin= -1.0\n",
    "    y_umin=-1.0\n",
    "    y_umax = -0.9\n",
    "    x_umax = -0.9\n",
    "    z_strata = np.zeros(400)\n",
    "    count = 0\n",
    "    for i in range(M):\n",
    "        y_umin = -1.0\n",
    "        y_umax = -0.9\n",
    "        for j in range(M):\n",
    "            x = np.random.uniform(low=x_umin,high=x_umax,size = 25)\n",
    "            y = np.random.uniform(low=y_umin,high=y_umax,size = 25)\n",
    "            x2 = (x_umax - x) + x_umin\n",
    "            y2 = (y_umax - y) + y_umin\n",
    "            z1 = f(g1,g2,x,y)\n",
    "            z2 = f(g1,g2,x2,y2)\n",
    "            z_strata[count] = ((np.mean(z1) + np.mean(z2))/2) * (step*step)\n",
    "            y_umin += step\n",
    "            y_umax += step\n",
    "            count += 1\n",
    "        x_umin += step\n",
    "        x_umax += step\n",
    "    estimates_anti[index] = np.sum(z_strata)\n",
    "print \"The Antithetic Methods Expected Value is:\", np.mean(estimates_anti)\n",
    "print \"The Antithetic Standard Deviation is:\",np.std(estimates_anti)"
   ]
  },
  {
   "cell_type": "code",
   "execution_count": 63,
   "metadata": {
    "collapsed": false
   },
   "outputs": [
    {
     "data": {
      "text/plain": [
       "[<matplotlib.text.Text at 0x11adf6890>,\n",
       " <matplotlib.text.Text at 0x11aaa5710>,\n",
       " <matplotlib.text.Text at 0x11ae17390>]"
      ]
     },
     "execution_count": 63,
     "metadata": {},
     "output_type": "execute_result"
    },
    {
     "data": {
      "image/png": "[encoded data removed]",
      "text/plain": [
       "<matplotlib.figure.Figure at 0x118b856d0>"
      ]
     },
     "metadata": {},
     "output_type": "display_data"
    }
   ],
   "source": [
    "ax = sns.distplot(estimates,color='y', bins=20, kde=False,)\n",
    "sns.distplot(estimates_anti,color='g', bins=20, kde=False,)\n",
    "ax.set(xlabel='Integral', ylabel='Frequency',title='Variance Reduction(Antithetic Sampling)')"
   ]
  },
  {
   "cell_type": "markdown",
   "metadata": {},
   "source": [
    "### Conclusion\n",
    "\n",
    "Having already discussed in great details about the results(benefits and pitfalls) associated with each technical variance reduction methods, I can now make a holistic judgement about the relative success of each method.\n",
    "\n",
    "Antithetic Variates(with stratification) works the best in this homework, with only 2.63e-05 standard deviation. It costs 6.9 $\\mu$s. The reason why this is the case, I believe, is it has the advantages of both methods. Compared to methods below, it reached number of maginitude decrease on variance. \n",
    "\n",
    "Important samplig also did a good job with 1.8e-04 standard deviation. The time spent was 5.0 $\\mu$ s. It is not surprising important sampling has this good result, as it has more sample on peak values, which dominant overall expected values. \n",
    "\n",
    "Control Variates:  4.2e-04 standard deviation, with time spent 5.01 $\\mu$ s. I think the benefits of control variates largely depends on the g(x) people chose. So, in my case, this method doesn't reach its optimal result\n",
    "\n",
    "Stratification did a decent job with 2e-04, with time spent 5.01 $\\mu$ s\n",
    "\n"
   ]
  },
  {
   "cell_type": "markdown",
   "metadata": {},
   "source": [
    "| Methods                       | Time($\\mu$s) | Expected Value | Variance |\n",
    "|-------------------------------|--------------|----------------|----------|\n",
    "| Normal MC                     | 5.01         | 0.01964        | 6.2e-04   |\n",
    "| Stratification                | 5.01         | 0.01962        | 2.0e-04    |\n",
    "| Control Variates              | 5.01         | 0.01944        | 4.2e-04  |\n",
    "| Important Sampling            | 5.01         | 0.01969        | 1.8e-04  |\n",
    "| Antithetic(w. Stratification) | 6.9          | 0.01963        | 2.6e-05 |"
   ]
  }
 ],
 "metadata": {
  "kernelspec": {
   "display_name": "Python 2",
   "language": "python",
   "name": "python2"
  },
  "language_info": {
   "codemirror_mode": {
    "name": "ipython",
    "version": 2
   },
   "file_extension": ".py",
   "mimetype": "text/x-python",
   "name": "python",
   "nbconvert_exporter": "python",
   "pygments_lexer": "ipython2",
   "version": "2.7.11"
  }
 },
 "nbformat": 4,
 "nbformat_minor": 0
}
