{
 "cells": [
  {
   "cell_type": "markdown",
   "metadata": {},
   "source": [
    "Section 7: An example of the EM algorithm\n",
    "=========================================\n",
    "\n",
    "I took inspiration from [this Nature paper](http://ai.stanford.edu/~chuongdo/papers/em_tutorial.pdf) and from [this blog post](http://nipunbatra.github.io/2014/04/em/) by Nipun Batra."
   ]
  },
  {
   "cell_type": "code",
   "execution_count": 43,
   "metadata": {
    "collapsed": false
   },
   "outputs": [
    {
     "name": "stdout",
     "output_type": "stream",
     "text": [
      "Populating the interactive namespace from numpy and matplotlib\n"
     ]
    }
   ],
   "source": [
    "%pylab inline\n",
    "\n",
    "import numpy as np\n",
    "import scipy.io\n",
    "from scipy import stats\n",
    "from astropy.io import ascii\n",
    "from astropy.table import Table, Column\n",
    "from astropy.io import fits\n",
    "import matplotlib.pyplot as plt\n",
    "import glob\n",
    "import pickle"
   ]
  },
  {
   "cell_type": "code",
   "execution_count": 32,
   "metadata": {
    "collapsed": true
   },
   "outputs": [],
   "source": [
    "def neg_loglik(thetas, n, xs, zs):\n",
    "    return -np.sum([np.log10(np.random.binomial(n[x],thetas[z])) for (x, z) in zip(xs, zs)])"
   ]
  },
  {
   "cell_type": "code",
   "execution_count": 108,
   "metadata": {
    "collapsed": false
   },
   "outputs": [],
   "source": [
    "# The outcome of the experiment\n",
    "\n",
    "observations = np.array([[1,0,0,0,1,1,0,1,0,1],\n",
    "                         [1,1,1,1,0,1,1,1,1,1],\n",
    "                         [1,0,1,1,1,1,1,0,1,1],\n",
    "                         [1,0,1,0,0,0,1,1,0,0],\n",
    "                         [0,1,1,1,0,1,1,1,0,1]])"
   ]
  },
  {
   "cell_type": "code",
   "execution_count": 35,
   "metadata": {
    "collapsed": false
   },
   "outputs": [],
   "source": [
    "# The identity of the coins for each of the 5 trials\n",
    "\n",
    "coins_id = np.array([False,True,True,False,True])  # When the coin selected was A."
   ]
  },
  {
   "cell_type": "code",
   "execution_count": 36,
   "metadata": {
    "collapsed": false
   },
   "outputs": [
    {
     "data": {
      "text/plain": [
       "array([[1, 1, 1, 1, 0, 1, 1, 1, 1, 1],\n",
       "       [1, 0, 1, 1, 1, 1, 1, 0, 1, 1],\n",
       "       [0, 1, 1, 1, 0, 1, 1, 1, 0, 1]])"
      ]
     },
     "execution_count": 36,
     "metadata": {},
     "output_type": "execute_result"
    }
   ],
   "source": [
    "# COMPLETELY OBSERVED CASE\n",
    "\n",
    "# Set of observations corresponding to coin A\n",
    "\n",
    "observations[coins_id]"
   ]
  },
  {
   "cell_type": "code",
   "execution_count": 37,
   "metadata": {
    "collapsed": false
   },
   "outputs": [
    {
     "data": {
      "text/plain": [
       "0.8"
      ]
     },
     "execution_count": 37,
     "metadata": {},
     "output_type": "execute_result"
    }
   ],
   "source": [
    "# Number of heads recorded when A was thrown\n",
    " \n",
    "np.sum(observations[coins_id])\n",
    "\n",
    "# Probability of head for A given the data would be\n",
    "\n",
    "1.0*np.sum(observations[coins_id])/observations[coins_id].size"
   ]
  },
  {
   "cell_type": "code",
   "execution_count": 38,
   "metadata": {
    "collapsed": false
   },
   "outputs": [
    {
     "data": {
      "text/plain": [
       "0.45"
      ]
     },
     "execution_count": 38,
     "metadata": {},
     "output_type": "execute_result"
    }
   ],
   "source": [
    "# Same for B\n",
    "\n",
    "1.0*np.sum(observations[~coins_id])/observations[~coins_id].size"
   ]
  },
  {
   "cell_type": "code",
   "execution_count": 45,
   "metadata": {
    "collapsed": false
   },
   "outputs": [
    {
     "name": "stdout",
     "output_type": "stream",
     "text": [
      "0.2006581248\n",
      "0.24609375\n"
     ]
    }
   ],
   "source": [
    "# THE EM ALGORITHM (in this case we don't know the identities of the coins)\n",
    "\n",
    "# We start with an initial guess for the parameters:\n",
    "# theta_0_A = 0.6\n",
    "# theta_0_B = 0.5\n",
    "\n",
    "# The intuitive idea is to guess, assuming those initial thetas, which of the two coins was more likely to\n",
    "# generate the data for each of the five trials. This is called a completion. We calculate probabilities for each\n",
    "# possible completion of the missing data and apply a modified version of the likelihood maximization (weighted training)\n",
    "\n",
    "# First iteration\n",
    "\n",
    "# We take the first trial and calculate the binomial for each of the two coins\n",
    "\n",
    "coin_A_pmf_obs_1 = stats.binom.pmf(5,10,0.6)\n",
    "\n",
    "print coin_A_pmf_obs_1\n",
    "\n",
    "coin_B_pmf_obs_1 = stats.binom.pmf(5,10,0.5)\n",
    "\n",
    "print coin_B_pmf_obs_1"
   ]
  },
  {
   "cell_type": "code",
   "execution_count": 49,
   "metadata": {
    "collapsed": false
   },
   "outputs": [
    {
     "name": "stdout",
     "output_type": "stream",
     "text": [
      "0.449148926101\n",
      "0.550851073899\n",
      "Coin A Weighted count for heads in observation 1: 2.25\n",
      "Coin A Weighted count for tails in observation 1: 2.25\n",
      "Coin B Weighted count for heads in observation 1: 2.75\n",
      "Coin B Weighted count for tails in observation 1: 2.75\n"
     ]
    }
   ],
   "source": [
    "# So coin B is more likely to have generated this first trial. We now normalize to 1 and weight\n",
    "\n",
    "normalized_coin_A_pmf_obs_1 = coin_A_pmf_obs_1/(coin_A_pmf_obs_1+coin_B_pmf_obs_1)\n",
    "\n",
    "print normalized_coin_A_pmf_obs_1\n",
    "\n",
    "normalized_coin_B_pmf_obs_1 = coin_B_pmf_obs_1/(coin_A_pmf_obs_1+coin_B_pmf_obs_1)\n",
    "\n",
    "print normalized_coin_B_pmf_obs_1\n",
    "\n",
    "\n",
    "weighted_heads_A_obs_1 = 5*normalized_coin_A_pmf_obs_1\n",
    "print \"Coin A Weighted count for heads in observation 1: %0.2f\" %weighted_heads_A_obs_1\n",
    "weighted_tails_A_obs_1 = 5*normalized_coin_A_pmf_obs_1\n",
    "print \"Coin A Weighted count for tails in observation 1: %0.2f\" %weighted_tails_A_obs_1\n",
    "weighted_heads_B_obs_1 = 5*normalized_coin_B_pmf_obs_1\n",
    "print \"Coin B Weighted count for heads in observation 1: %0.2f\" %weighted_heads_B_obs_1\n",
    "weighted_tails_B_obs_1 = 5*normalized_coin_B_pmf_obs_1\n",
    "print \"Coin B Weighted count for tails in observation 1: %0.2f\" %weighted_tails_B_obs_1\n",
    "\n",
    "\n"
   ]
  },
  {
   "cell_type": "code",
   "execution_count": 80,
   "metadata": {
    "collapsed": false
   },
   "outputs": [],
   "source": [
    "# Lets leave that as the example and now iterate over the five trials\n",
    "\n",
    "theta_0_A = 0.6\n",
    "theta_0_B = 0.5\n",
    "\n",
    "binomial_A = []\n",
    "binomial_B = []\n",
    "\n",
    "normal_A = []\n",
    "normal_B = []\n",
    "\n",
    "weighted_A_heads = []\n",
    "weighted_A_tails = []\n",
    "weighted_B_heads = []\n",
    "weighted_B_tails = []\n",
    "\n",
    "for i in arange(shape(observations)[0]):\n",
    "    \n",
    "    # Calculate binomials\n",
    "    bin_A = stats.binom.pmf(sum(observations[i]),shape(observations)[1],theta_0_A)\n",
    "    bin_B = stats.binom.pmf(shape(observations)[1]-sum(observations[i]),shape(observations)[1],theta_0_B)\n",
    "    \n",
    "    #print sum(observations[i]), shape(observations)[1]-sum(observations[i])\n",
    "    #print bin_A\n",
    "    binomial_A.append(bin_A)\n",
    "    #print bin_B\n",
    "    binomial_B.append(bin_B)\n",
    "    \n",
    "    # Normalize\n",
    "    norm_A = bin_A/(bin_A+bin_B)\n",
    "    #print norm_A\n",
    "    normal_A.append(norm_A)\n",
    "    norm_B = bin_B/(bin_A+bin_B)\n",
    "    #print norm_B\n",
    "    normal_B.append(norm_B)\n",
    "    \n",
    "    # Weight\n",
    "    weight_A_heads = sum(observations[i])*norm_A\n",
    "    #print weight_A_heads\n",
    "    weighted_A_heads.append(weight_A_heads)\n",
    "    weight_A_tails = (shape(observations)[1]-sum(observations[i]))*norm_A\n",
    "    #print weight_A_tails\n",
    "    weighted_A_tails.append(weight_A_tails)                 \n",
    "                     \n",
    "    weight_B_heads = sum(observations[i])*norm_B\n",
    "    #print weight_B_heads\n",
    "    weighted_B_heads.append(weight_B_heads)\n",
    "    weight_B_tails = (shape(observations)[1]-sum(observations[i]))*norm_B\n",
    "    #print weight_B_tails\n",
    "    weighted_B_tails.append(weight_B_tails)                      \n",
    "    \n",
    "#print sum(weighted_A_heads)\n",
    "#print sum(weighted_A_tails)\n",
    "#print sum(weighted_B_heads)\n",
    "#print sum(weighted_B_tails)"
   ]
  },
  {
   "cell_type": "code",
   "execution_count": 82,
   "metadata": {
    "collapsed": false
   },
   "outputs": [
    {
     "name": "stdout",
     "output_type": "stream",
     "text": [
      "0.713012235401\n",
      "0.581339308314\n"
     ]
    }
   ],
   "source": [
    "# Now we maximize the weighted likelihood\n",
    "# We calculate the probability of getting heads for each coin at the end of the iteration from the weighted counts\n",
    "\n",
    "theta_A_new = sum(weighted_A_heads)/(sum(weighted_A_heads) + sum(weighted_A_tails))\n",
    "print theta_A_new\n",
    "theta_B_new = sum(weighted_B_heads)/(sum(weighted_B_heads) + sum(weighted_B_tails))\n",
    "print theta_B_new\n"
   ]
  },
  {
   "cell_type": "code",
   "execution_count": 85,
   "metadata": {
    "collapsed": true
   },
   "outputs": [],
   "source": [
    "# Ok, now let us write a function that does this in an automatic way (a single iteration of the EM algorithm)\n",
    "\n",
    "def em_single(priors, observations):\n",
    "    \"\"\"\n",
    "    Performs a single EM step\n",
    "    Arguments\n",
    "    ---------\n",
    "    priors : [theta_A, theta_B]\n",
    "    observations : [m X n matrix]\n",
    "    \n",
    "    Returns\n",
    "    --------\n",
    "    new_priors: [new_theta_A, new_theta_B]\n",
    "    \"\"\"\n",
    "    counts = {'A':{'H':0, 'T':0}, 'B':{'H':0, 'T':0}}\n",
    "    theta_A = priors[0]\n",
    "    theta_B = priors[1]\n",
    "    \n",
    "    # E step\n",
    "    for observation in observations:\n",
    "        len_observation = len(observation)\n",
    "        num_heads = observation.sum()\n",
    "        num_tails = len_observation - num_heads\n",
    "        contribution_A = stats.binom.pmf(num_heads,len_observation,theta_A)\n",
    "        contribution_B = stats.binom.pmf(num_heads,len_observation,theta_B)\n",
    "        weight_A = contribution_A/(contribution_A+contribution_B)\n",
    "        weight_B = contribution_B/(contribution_A+contribution_B)\n",
    "        # Incrementing counts\n",
    "        counts['A']['H']+= weight_A*num_heads\n",
    "        counts['A']['T']+= weight_A*num_tails\n",
    "        counts['B']['H']+= weight_B*num_heads\n",
    "        counts['B']['T']+= weight_B*num_tails\n",
    "    # M step\n",
    "    new_theta_A = counts['A']['H']/(counts['A']['H']+counts['A']['T'])\n",
    "    new_theta_B = counts['B']['H']/(counts['B']['H']+counts['B']['T'])\n",
    "    return [new_theta_A, new_theta_B]"
   ]
  },
  {
   "cell_type": "code",
   "execution_count": 102,
   "metadata": {
    "collapsed": false
   },
   "outputs": [],
   "source": [
    "# Now a procedure to run the algorithm with two convergence criteria: a maximum of 10000 iterations\n",
    "# or a tolerance of 1E-6:\n",
    "\n",
    "def em(observations, prior, tol=1e-6, iterations=10000):\n",
    "    import math\n",
    "    iteration = 0\n",
    "    prior_trace = {'trace_A':[prior[0]],'trace_B':[prior[1]]}\n",
    "    while iteration<iterations:\n",
    "        new_prior = em_single(prior, observations)\n",
    "        delta_change = np.abs(prior[0]-new_prior[0])\n",
    "        if delta_change<tol:\n",
    "            break\n",
    "        else:\n",
    "            prior = new_prior\n",
    "            prior_trace['trace_A'].append(new_prior[0])\n",
    "            prior_trace['trace_B'].append(new_prior[1])\n",
    "            iteration+=1\n",
    "    plt.plot(prior_trace['trace_A'],'o')\n",
    "    plt.plot(prior_trace['trace_B'],'o')\n",
    "    return [new_prior, iteration]"
   ]
  },
  {
   "cell_type": "code",
   "execution_count": 109,
   "metadata": {
    "collapsed": false
   },
   "outputs": [
    {
     "data": {
      "text/plain": [
       "[[0.79678875938310978, 0.51958393567528027], 14]"
      ]
     },
     "execution_count": 109,
     "metadata": {},
     "output_type": "execute_result"
    },
    {
     "data": {
      "image/png": "[encoded data removed]",
      "text/plain": [
       "<matplotlib.figure.Figure at 0x7feb1f031090>"
      ]
     },
     "metadata": {},
     "output_type": "display_data"
    }
   ],
   "source": [
    "em(observations, [0.6,0.5])"
   ]
  },
  {
   "cell_type": "code",
   "execution_count": null,
   "metadata": {
    "collapsed": true
   },
   "outputs": [],
   "source": []
  },
  {
   "cell_type": "code",
   "execution_count": null,
   "metadata": {
    "collapsed": true
   },
   "outputs": [],
   "source": []
  }
 ],
 "metadata": {
  "kernelspec": {
   "display_name": "Python 2",
   "language": "python",
   "name": "python2"
  },
  "language_info": {
   "codemirror_mode": {
    "name": "ipython",
    "version": 2
   },
   "file_extension": ".py",
   "mimetype": "text/x-python",
   "name": "python",
   "nbconvert_exporter": "python",
   "pygments_lexer": "ipython2",
   "version": "2.7.10"
  }
 },
 "nbformat": 4,
 "nbformat_minor": 0
}
