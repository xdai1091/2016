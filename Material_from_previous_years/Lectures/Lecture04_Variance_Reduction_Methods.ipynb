{
 "cells": [
  {
   "cell_type": "markdown",
   "metadata": {},
   "source": [
    "# Lecture 4: Variance Reduction\n",
    "\n",
    "AM207: Pavlos Protopapas, Harvard University\n",
    "\n",
    "Feb 5, 2014\n",
    "\n",
    "------\n"
   ]
  },
  {
   "cell_type": "markdown",
   "metadata": {},
   "source": [
    "We will discuss methods that may be used to reduce  the standard error of \n",
    "the sample mean approximation (or the integral). \n",
    "We will look into four different methods and we compare them\n",
    "to mean Monte Carlo methods with examples. \n",
    "\n",
    "$$\n",
    "\\newcommand{\\var}{{\\rm var}}\n",
    "\\newcommand{\\cov}{{\\rm cov}}\n",
    "\\newcommand{\\corr}{{\\rm corr}}\n",
    "$$"
   ]
  },
  {
   "cell_type": "code",
   "execution_count": 1,
   "metadata": {
    "collapsed": false
   },
   "outputs": [],
   "source": [
    "%matplotlib inline\n",
    "import numpy as np\n",
    "import matplotlib.pyplot as plt"
   ]
  },
  {
   "cell_type": "markdown",
   "metadata": {},
   "source": [
    "## 1. Control Variates\n",
    "\n",
    "The basic idea is to transform the function we would like to integrate into \n",
    "a different function where the variance of this new functions is much smaller\n",
    "(or flatter).\n",
    "\n",
    "Suppose again that we wish to estimate  $E[Y]$, where $Y = f(X)$ is the output of a simulation experiment.\n",
    "Suppose the mean of a function $Z=g(X)$, $E[Z]=\\tau$ is known or easily\n",
    "estimated with a simulation. The transformation $f(X) \\rightarrow f^{\\star}(X) = f(X) - g(X)$ will\n",
    " yield the same value, $E[ f^{\\star}] = E[f]$. \n",
    " \n",
    " The control variate method finds the best way to do so for \n",
    " any arbitrary function $g(X)$. To do so we introduce a new function $f^{\\star}$:\n",
    " \n",
    "$$ f^{\\star} (X) = f(X) + b[g(X)-\\tau] $$\n",
    "\n",
    "where $b$ is a constant. \n",
    "\n",
    "The expectation of this new function is identical to the original function, \n",
    "\n",
    "$$ E[ f^{\\star}] =  E[ f] + b \\, E[ g] - b \\, \\tau=  E[ f].  $$\n",
    "\n",
    "\n",
    "Also the variance of the new function is \n",
    "\n",
    "\\begin{equation}\n",
    " \\var(f^{\\star}) = \\var(f)+b^2 \\,\\var( g) +2 \\,b\\, \\cov(f,g)  \n",
    " \\end{equation}\n",
    "\n",
    "\n",
    "Since we are free to choose $b$, we should choose it to minimize $\\var(f^{\\star}) $. Simple calculus then implies that the\n",
    "optimal value of $b$ is given by\n",
    "\n",
    "$$ b_c = -\\frac{\\cov(f,g)}{\\var(g)} $$\n",
    "\n",
    "Substituting for $b_c$ above we see that\n",
    "\n",
    "$$ \\var(f^{\\star}) = \\var(f) - \\frac{[\\cov(f,g)]^2}{\\var(g)}  = \\var(f) (1-\\rho^2(f,g)) $$\n",
    "\n",
    "where $\\rho(f,g)$ is the correlation coefficient of $f$ and $g$. \n",
    "This means that if $\\rho^2$ is close to one, the variance of $f^{\\star}$ becomes close\n",
    "to zero. \n",
    "The function $g$ is called the control variate for $f$.\n",
    "\n",
    "Now back to our integral. To use the control variate $g$ in our simulation we would like to modify our\n",
    "algorithm so that after generating n samples of $f(X)$ and $g(X)$ we would simply set\n",
    "\n",
    " $$ I = \\int_{V} f(x) dx \\approx \\frac{V}{N} \\sum_i f^{\\star}(x_i) =  \\frac{V}{N} \\sum_i \\left[ f(x_i) +b_c (g(x_i) -\\tau) \\right] $$\n",
    " \n",
    " There is of course a problem with this.  We usually do not know $\\cov(f,g)$. We overcome this problem by\n",
    "approximating it from the samples. "
   ]
  },
  {
   "cell_type": "markdown",
   "metadata": {},
   "source": [
    "###Example\n",
    "\n",
    "In this example we would like to estimate the integral of the function $f(x) = \\cos(x) \\exp(-x)+0.2  $ from 0 to 10. \n",
    "\n",
    "$$ I = \\int_{0}^{10} dx [\\cos(x) \\exp(-x)+0.2] $$\n",
    "\n",
    "and we introduce a control variate $g(x) =exp(-x)+0.2 $. This function is chosen such \n",
    "as the correlation of $f,g$ is close to one. [HOW DO I KNOW THIS?]"
   ]
  },
  {
   "cell_type": "code",
   "execution_count": 2,
   "metadata": {
    "collapsed": false
   },
   "outputs": [
    {
     "data": {
      "text/plain": [
       "<matplotlib.legend.Legend at 0xa85cfd0>"
      ]
     },
     "execution_count": 2,
     "metadata": {},
     "output_type": "execute_result"
    },
    {
     "data": {
      "image/png": "[encoded data removed]",
      "text/plain": [
       "<matplotlib.figure.Figure at 0xa6b6518>"
      ]
     },
     "metadata": {},
     "output_type": "display_data"
    }
   ],
   "source": [
    "plt.figure(figsize=[14,8])\n",
    "\n",
    "xmax = 10\n",
    "xmin = 0\n",
    "N=10000\n",
    "\n",
    "w = 0.5\n",
    "\n",
    "# ==================================\n",
    "# derivative of the function\n",
    "# =================================\n",
    "f = lambda x: np.cos(w*x)*np.exp(-x)+0.2;\n",
    "g = lambda x: np.exp(-x)+0.2;\n",
    "fint= lambda z: z/5.0- (4.0*np.cos(z/2.0))/(5.0*np.exp(z)) + (2.0*np.sin(z/2.0))/(5.0*np.exp(z))\n",
    "fint_vr = lambda z: z/5  -1/np.exp(z)  \n",
    "\n",
    "# ============================\n",
    "# plot it\n",
    "# ============================\n",
    "x = np.linspace(0,10, 100)\n",
    "\n",
    "plt.subplot(1,2,1)\n",
    "plt.plot(x, f(x), 'b', label=u'$cos(x)\\, \\exp(-x)+0.2$') \n",
    "plt.plot( x, g(x), 'r', label = u'$\\exp(-x)+0.2$')\n",
    "plt.legend()\n",
    "\n",
    "Ivmc = np.zeros(1000)\n",
    "Imc_vr = np.zeros(1000)\n",
    "\n",
    "\n",
    "#exact value \n",
    "true_val = fint(xmax) - fint(xmin)\n",
    "\n",
    "tau =(1.0/(xmax-xmin))*(fint_vr(xmax)-fint_vr(xmin));\n",
    "\n",
    "# DO THIS FEW TIMES\n",
    "for k in np.arange(0,1000):\n",
    "\n",
    "    # ----------------------\n",
    "    # lets do the normal MC\n",
    "    # ----------------------\n",
    "\n",
    "   \n",
    "    X = np.random.uniform( low=xmin, high=xmax, size=N)\n",
    "    Ivmc[k] = (xmax-xmin)*np.mean(f(X));\n",
    "\n",
    "    # ----------------------\n",
    "    # CONTROL VARIATE\n",
    "    # ----------------------\n",
    "    \n",
    "    q = np.cov(g(X),f(X));\n",
    "    \n",
    "    b =- q[0,1]/np.var(g(X));\n",
    "       \n",
    " \n",
    "    \n",
    "    \n",
    "    Imc_vr[k] = (xmax-xmin)*(np.mean(f(X)) + b *(np.mean(g(X)) -tau));\n",
    "\n",
    "\n",
    "\n",
    "\n",
    "yreal = true_val*np.ones(30);\n",
    "\n",
    "plt.subplot(1,2,2)\n",
    "plt.hist(Ivmc,30, histtype='step', label=u'Basic MC');\n",
    "# bar(b1,h1, 1, 'FaceColor', 'none', 'EdgeColor', 'red')\n",
    "plt.hist(Imc_vr,30, histtype='step', label = u'Control Variate');\n",
    "# bar(b2,h2, 1, 'FaceColor', 'none', 'EdgeColor', 'blue')\n",
    "plt.plot([true_val, true_val], [0 ,100], 'y.-') \n",
    "plt.legend()\n",
    "#legend('VMC', 'VR', 'True Value')\n"
   ]
  },
  {
   "cell_type": "markdown",
   "metadata": {},
   "source": [
    "### 1.1 Multiple Control Variates\n",
    "\n",
    "Up until now we have only considered the possibility of using one control variate. However, there is no reason\n",
    "why we should not use more than one and I will now describe how to do this. \n",
    "Suppose again that we wish to estimate    $E[Y]$ where $Y = f(X)$ is the output of a simulation experiment.\n",
    "We also suppose that the means of the functions $E[Z_i]=\\tau_i$ where $Z_i=g_i(X)$ for $i= 1\\ldots m$ \n",
    "is known for each $i$.\n",
    "\n",
    "We can then construct unbiased estimators of $E[Y]$ by setting \n",
    "\n",
    "$$  f^{\\star}(X) = f(X)+b_1 \\left[ g_1(X) - \\tau_1\\right] +b_2 \\left[ g_2(X) - \\tau_2\\right] +\\ldots +b_m \\left[ g_m(X) - \\tau_m\\right] $$\n",
    "\n",
    "To choose a good set of $b_i$'s, we compute $\\var(f^{\\star})$ and obtain\n",
    "\n",
    "$$ \\var(f^{\\star}) = \\var(f) +2 \\, \\sum_i^{m} b_i\\, \\cov(f,g_i) + \\sum_{i}^{m} \\sum_{j}^{m} b_i \\, b_j \\cov(g_i, g_j) $$\n",
    "\n",
    "As before, we could use use calculus to find the optimal set of $b_i$'s \n",
    "by taking partial derivatives with respect to each $b_i$, \n",
    "set them equal to 0 and solve the resulting system of $m$ linear equations and $m$ unknowns. \n",
    "This is easy to do but as before, however, the optimal solutions $b_{i,c}$'s\n",
    "will involve unknown quantities so that they will need to be\n",
    "estimated using the samples. A convenient way of estimating the $b_{i,c}$'s\n",
    "is to observe that $b_{i,c}=c_i$'s, where $c_i$'s are the solution to the linear regression \n",
    "\n",
    "$$ Y = a + c_1 g_1(X) + \\ldots + c_m g_m(X) + \\epsilon $$\n",
    "\n",
    "where  $\\epsilon $ is an error term. \n",
    "[PROVE THIS]"
   ]
  },
  {
   "cell_type": "markdown",
   "metadata": {},
   "source": [
    "## 2. Antithetic Variates\n",
    "\n",
    "Suppose as usual that we would like to estimate $E[f(X)] = E[Y ]$, \n",
    "and that we have generated two samples,\n",
    "$Y_1=f(X_1)$ and $Y_2=f(X_2)$. Then the expectation of\n",
    "\n",
    "$$ Z = \\frac{1}{2} \\left[  Y_1 + Y_2 \\right] $$\n",
    "\n",
    "$E[Z] = E[Y]$\n",
    "\n",
    "and \n",
    "\n",
    "$$ \\var(Z) = \\frac{ \\var(Y_1)+\\var(Y_2) + 2 \\cov(Y_1,Y_2)}{4}. $$\n",
    "\n",
    "Therefore, the more negatively correlated $Y_1=f(X_1)$ is with $Y_2=f(X_2)$, the more the variance will be reduced.\n",
    "If $Y_1$ and $Y_2$ are iid, then the $\\var(Z) = \\var(Y_1)/2=\\var(Y_2)/2$.\n",
    "On the other hand, we could reduce $\\var(Z)$ if we could make it so that\n",
    "$\\cov(Y_1, Y_2) < 0$. \n",
    "\n",
    "Lets try it out. Generate two samples that are correlated "
   ]
  },
  {
   "cell_type": "code",
   "execution_count": 3,
   "metadata": {
    "collapsed": false
   },
   "outputs": [
    {
     "name": "stdout",
     "output_type": "stream",
     "text": [
      "0.0249911686342 0.0830685987191 0.0160772422815 [[ 0.08307691  0.00040946]\n",
      " [ 0.00040946  0.01607885]]\n"
     ]
    }
   ],
   "source": [
    "Y1= np.random.uniform(low=0, high=1, size=10000)\n",
    "Y2a= np.random.uniform(low=0, high=1, size=10000)\n",
    "\n",
    "rho =-0.9\n",
    "\n",
    "Y2 = rho + np.sqrt(1-rho**2) * Y2a\n",
    "\n",
    "Z= 0.5*(Y1+Y2)\n",
    "print np.var(Z), np.var(Y1), np.var(Y2), np.cov(Y1,Y2)\n"
   ]
  },
  {
   "cell_type": "markdown",
   "metadata": {},
   "source": [
    "The method of antithetic variates describes how to do this idea in reducing the estimator error of an integral. \n",
    "Suppose $X \\sim U(0, 1)$ iid random variables and\n",
    "\n",
    "$$ \\theta=E[f(X)]=E[f(U)] $$\n",
    "\n",
    "If we construct two samples $U$ and $1-U$, each of length $n$ and now define\n",
    "$$ Y_1 = f(U)  \\hspace{2cm} Y_2 = f(1-U) $$\n",
    "\n",
    "then the expectation of \n",
    "$$Z = \\frac{1}{2} \\left[  Y_1 + Y_2 \\right] $$\n",
    "$E[Z] = E[Y]$ as before. \n",
    "\n",
    "If we to compare this with the mean MC with  $2n$ sample, the question\n",
    "remains as to which algorithm is better. \n",
    "Note that both algorithms require approximately the same amount of time. \n",
    "That is, comparing the two algorithms amounts to computing which estimator has a smaller variance.\n",
    "\n",
    "Say we want to calculate \n",
    "\n",
    "$$ I = \\int f(X) dX $$\n",
    "\n",
    "and let $X\\sim U(0,1)$ for $2n$ samples and $Y=f(X)$, \n",
    "\n",
    "$$ \\var(\\hat{I}_{2n}) = \\frac{\\var(Y)}{2n} $$ \n",
    "\n",
    "on the other hand \n",
    "\n",
    "$$ \\var(\\hat{I}_{n+n})  = \\frac{\\var(Z)}{n}  = \\frac{\\var(Y_1+Y_2)}{4n} = \\frac{\\var(Y_1)}{2n}+\\frac{\\cov(Y_1,Y_2)}{2n} $$\n",
    "\n",
    "So again to reduce the $\\hat{I}_{n+n}$, we would like to make the $\\cov(Y_1,Y_2)$ as negative \n",
    "as possible. \n",
    "\n",
    "If the $Y$'s are monotonic functions of $X$ then this guarantees if $Y_1 = f(X)$ and $Y_2=f(1-X)$ then\n",
    "$Y_1,Y_2$  are negatively correlated."
   ]
  },
  {
   "cell_type": "markdown",
   "metadata": {},
   "source": [
    "### Example\n",
    "\n",
    "In this example we are trying to calculate  the integral of $f(x) = 1/(x+1)$ from $[0,1]$. To do so \n",
    " we generate $X_1=U$ from a uniform distribution and $X_2=1-U$. Because $X_1,X_2$ are correlated,\n",
    " one can show that $Y_1=f(X_1),Y_2=f(X_2)$ are also strongly correlated if the function is monotonic.\n",
    " [PROOF]\n",
    " "
   ]
  },
  {
   "cell_type": "code",
   "execution_count": 4,
   "metadata": {
    "collapsed": false
   },
   "outputs": [
    {
     "data": {
      "text/plain": [
       "<matplotlib.legend.Legend at 0xa6b61d0>"
      ]
     },
     "execution_count": 4,
     "metadata": {},
     "output_type": "execute_result"
    },
    {
     "data": {
      "image/png": "[encoded data removed]",
      "text/plain": [
       "<matplotlib.figure.Figure at 0xa56cf60>"
      ]
     },
     "metadata": {},
     "output_type": "display_data"
    }
   ],
   "source": [
    "N =10000\n",
    "xmin = 0 \n",
    "xmax = 1\n",
    "\n",
    "\n",
    "# ==============================\n",
    "# DEFINE FUNTION \n",
    "# ==============================\n",
    "Y = lambda x:  1/(x+1)\n",
    "intY = lambda x: np.log(x+1) \n",
    "\n",
    "Iact = intY(xmax)-intY(xmin)\n",
    "\n",
    "Ivmc=np.zeros(1000)\n",
    "Iant=np.zeros(1000)\n",
    "# ==============================\n",
    "# GENERATING THE SAMPLE X1, X2 iid \n",
    "# and X1 amd Y1 negatively correlated \n",
    "# ==============================\n",
    "for k in np.arange(0,1000):\n",
    "    U = np.random.uniform(low=0, high=1, size=2*N)\n",
    "    X=U\n",
    "\n",
    "\n",
    "\n",
    "    # ==============================\n",
    "    # VANILLA MC\n",
    "    # ==============================\n",
    "    Ivmc[k] =  np.mean(Y(X))\n",
    "\n",
    "    # ==============================\n",
    "    # ANTITHETIC MC\n",
    "    # ==============================\n",
    "    U = np.random.uniform(low=0, high=1, size=N) \n",
    "    X1= U\n",
    "    X2= 1-U\n",
    "    Iant[k] = 0.5*( np.mean(Y(X1))+np.mean(Y(X2)))\n",
    "\n",
    "\n",
    "plt.hist(Ivmc,30, histtype='step', label=u'Normal MC')\n",
    "plt.hist(Iant,30,  histtype='step', label=u'Control Variates')\n",
    "plt.legend()"
   ]
  },
  {
   "cell_type": "markdown",
   "metadata": {},
   "source": [
    "## 3. Stratified Method\n",
    "\n",
    "The key idea is to achieve a more regular sampling of the\n",
    "most `important' dimension in the uncertainty.\n",
    "Start by considering a one-dimensional problem:\n",
    "\n",
    "$$ I= \\int_{0}^{1} f(x) \\, dx $$\n",
    "\n",
    "and lets assume $x$ is drawn from a uniform distribution. \n",
    "\n",
    "$$ I= \\int_{0}^{1} f(U) \\, dU $$\n",
    "\n",
    "Instead of taking $N$ samples, drawn from uniform\n",
    "distribution, we break the interval into $M$ _strata_ of equal width and take $L$ samples for each\n",
    "strate, $N=LM$.\n",
    "\n",
    "Let $U_{ij}$ be the value of the $i$-th sample and strata $j$. The average from strata $j$ is\n",
    "\n",
    "\\begin{equation} \n",
    "I_j = E[f(U_j)]\\approx  \\frac{1}{L} \\sum_i f(U_{ij}) \n",
    "\\end{equation}\n",
    "\n",
    "and the overall integral without stratification is:\n",
    "\n",
    "\\begin{equation}  \n",
    "I =E[f(U)] \\approx \\frac{1}{N}\\sum_{i,j}  f(U_{ij}) \n",
    "\\end{equation}\n",
    "\n",
    "With stratification we would average the estimations in each strata\n",
    "\\begin{equation}\n",
    " I_s \\approx \\frac{1}{M} \\sum_j I_j \n",
    " \\end{equation}\n",
    "and that is obviously the same as the estimation without stratification.\n",
    "When we take strata we average the estimate for each strata as\n",
    "\n",
    "\\begin{equation} I_s = \\frac{1}{M} \\sum_j I_j =  \\frac{1}{M} \\sum_j \\frac{1}{L} \\sum_{i}  f(U_{ij})=  \\frac{1}{N} \\sum_{i,j}  f(U_{ij})= I\n",
    "\\end{equation}\n",
    "\n",
    "To do the analysis of the variance, lets remind ourselves that the \n",
    "MC estimated variance is  $\\sigma_I=\\frac{\\var(f)}{N}$. The variance without stratification is then \n",
    "\n",
    "\\begin{equation} \\var(I) = \\frac{\\var(f)}{N} = \\frac{E[f^2] - E[f]^2}{N}  = \\frac{E[f^2] - I^2}{N}\n",
    "\\end{equation}\n",
    "\n",
    "The expectation of $f^2$ can be expanded as \n",
    "\n",
    "\\begin{equation}\n",
    "E[f^2] \\approx \\frac{1}{N} \\sum_{ij} f^2(U_{ij}) =\\frac{1}{N} \\sum_j L \\left[ \\frac{1}{L} \\sum_i f^2(U_{ij}) \\right]=\\frac{L}{N}  \\sum_j E[f^2(U_j)] = \\frac{1}{M}  \\sum_j E[f^2(U_j)] \n",
    "\\end{equation}\n",
    "\n",
    "however from the definition of $\\sigma_j^2$ \n",
    "\n",
    "\\begin{eqnarray} \n",
    "\\sigma_j^2 = E[ f^2(U_j)] - E[f(U_j)]^2 &=& E[ f^2(U_j)] - I_j^2  \\nonumber \\\\\n",
    " &\\Rightarrow& E[ f^2(U_j)] =\\sigma_j^2 + I_j^2   \n",
    "\\end{eqnarray}\n",
    "\n",
    "substituting this, we get\n",
    "\n",
    "\\begin{equation}\n",
    "\\var(I) =\\frac{ \\frac{1}{M}  \\sum_j  (\\sigma_j^2 + I_j^2)- I^2}{N} = \\frac{1}{NM}\\sum_j  \\sigma_j^2 + \\frac{1}{N} \\left( \\frac{\\sum_j  I_j^2}{M} -  I^2 \\right)\n",
    "\\end{equation}\n",
    "\n",
    "the variance with stratification is \n",
    "\n",
    "\\begin{equation}  \\var(I_s)= \\var\\left(  \\frac{1}{M} \\sum_j I_j  \\right)  = \\frac{1}{M^2}  \\var\\left(\\sum_j I_j  \\right)  = \\frac{1}{M^2}  \\sum_j \\var(I_j)\n",
    " = \\frac{1}{M^2}   \\sum_j  \\frac{\\sigma_j^2}{L} =  \\frac{1}{M^2 \\,L}   \\sum_j  \\sigma_j^2\\end{equation}\n",
    " \n",
    "where we ignore all covariances since the deviations about $I_j$ are all iid and uncorrelated. Finally, \n",
    "\n",
    "\\begin{equation}\n",
    "  \\var(I_s)= \\frac{1}{M^2} \\frac{ 1}{L}   \\sum_j \\sigma_j^2  =  \\frac{1}{MN}  \\sum_j \\sigma_j^2 \\le \\var(I)\n",
    "\\end{equation}\n",
    "\n",
    "where the last step is based on the fact that \n",
    "$$  \\frac{\\sum_j  I_j^2}{M} -  I^2  > 0 $$\n",
    "by the Cauchy-Schwarz Inequality.\n",
    "\n",
    "Thus stratified sampling reduces the variance.\n",
    "\n",
    "\n",
    "Sub-dividing into strata always reduces the variance, so the optimum choice is to use 1 sample per\n",
    "stratum. \n",
    "However, we need multiple samples in each stratum to\n",
    "estimate the variance and obtain a confidence interval.\n",
    "Despite this, interesting to analyze what happens with\n",
    "1 sample per stratum."
   ]
  },
  {
   "cell_type": "markdown",
   "metadata": {},
   "source": [
    "###Example\n",
    "\n",
    "For a  one-dimensional application we take $ x/(x^2+1)$ and integrate from $[0,1]$.\n",
    "We break $[0,10]$ into $M$ strata and for each stratum, take $N/M$ samples\n",
    "with uniform probability distribution. Compute the average within each \n",
    "stratum, and then calculate the overall average. "
   ]
  },
  {
   "cell_type": "code",
   "execution_count": 5,
   "metadata": {
    "collapsed": false
   },
   "outputs": [
    {
     "name": "stderr",
     "output_type": "stream",
     "text": [
      "C:\\Users\\vkaynig\\Anaconda2\\lib\\site-packages\\ipykernel\\__main__.py:37: DeprecationWarning: using a non-integer number instead of an integer will result in an error in the future\n"
     ]
    },
    {
     "data": {
      "text/plain": [
       "<matplotlib.legend.Legend at 0xc15d9b0>"
      ]
     },
     "execution_count": 5,
     "metadata": {},
     "output_type": "execute_result"
    },
    {
     "data": {
      "image/png": "[encoded data removed]",
      "text/plain": [
       "<matplotlib.figure.Figure at 0xc1704e0>"
      ]
     },
     "metadata": {},
     "output_type": "display_data"
    }
   ],
   "source": [
    "plt.figure(figsize=[14,8])\n",
    "Y = lambda x: x/(x**2+1.0);\n",
    "intY = lambda x: np.log(x**2 + 1.0)/2.0;\n",
    "\n",
    "## Ploting the original functions \n",
    "plt.subplot(1,2,1)\n",
    "x = np.linspace(0,10,100)\n",
    "plt.plot(x, Y(x), label=u'$x/(x**2+1)$')\n",
    "\n",
    "N= 10000\n",
    "M = 10   # number of strate \n",
    "\n",
    "xmin=0\n",
    "xmax =10\n",
    "\n",
    "# analytic solution \n",
    "Ic = intY(xmax)-intY(xmin)\n",
    "\n",
    "Imc = np.zeros(N)\n",
    "Is = np.zeros(N)\n",
    "for k in np.arange(0,N):\n",
    " \n",
    "    Umin=0\n",
    "    Umax =10\n",
    "    # First lets do it with mean MC method \n",
    "    U = np.random.uniform(low=Umin, high=Umax, size=N)\n",
    "    Imc[k] = (Umax-Umin)* np.mean(Y(U))\n",
    "\n",
    "    #stratisfied it in Ns regions\n",
    "    step = (Umax-Umin )/M\n",
    "    Umin = 0 \n",
    "    Umax = step\n",
    "    Ii = 0\n",
    "    \n",
    "    \n",
    "    for reg in np.arange(0,M):\n",
    "        x = np.random.uniform(low=Umin, high=Umax, size=1.0*N/M);\n",
    "        Ii = Ii+(Umax-Umin)* np.mean(Y(x))\n",
    "        Umin = Umin + step\n",
    "        Umax = Umin + step\n",
    "\n",
    "\n",
    "    Is[k] = Ii\n",
    "\n",
    "plt.subplot(1,2,2)\n",
    "plt.hist(Imc,30, histtype='step', label=u'Normal MC')\n",
    "plt.hist(Is, 30, histtype='step', label=u'Stratified')\n",
    "plt.legend()\n",
    "\n"
   ]
  },
  {
   "cell_type": "code",
   "execution_count": null,
   "metadata": {
    "collapsed": false
   },
   "outputs": [],
   "source": []
  }
 ],
 "metadata": {
  "kernelspec": {
   "display_name": "Python 2",
   "language": "python",
   "name": "python2"
  },
  "language_info": {
   "codemirror_mode": {
    "name": "ipython",
    "version": 2
   },
   "file_extension": ".py",
   "mimetype": "text/x-python",
   "name": "python",
   "nbconvert_exporter": "python",
   "pygments_lexer": "ipython2",
   "version": "2.7.11"
  }
 },
 "nbformat": 4,
 "nbformat_minor": 0
}
